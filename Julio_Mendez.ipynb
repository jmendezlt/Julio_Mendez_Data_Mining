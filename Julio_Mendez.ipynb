{
  "nbformat": 4,
  "nbformat_minor": 0,
  "metadata": {
    "colab": {
      "name": "Julio_Mendez.ipynb",
      "private_outputs": true,
      "provenance": [],
      "authorship_tag": "ABX9TyPYewdZyAoaIITMbf5mIivO",
      "include_colab_link": true
    },
    "kernelspec": {
      "name": "python3",
      "display_name": "Python 3"
    },
    "language_info": {
      "name": "python"
    }
  },
  "cells": [
    {
      "cell_type": "markdown",
      "metadata": {
        "id": "view-in-github",
        "colab_type": "text"
      },
      "source": [
        "<a href=\"https://colab.research.google.com/github/jmendezlt/Julio_Mendez_Data_Mining/blob/main/Julio_Mendez.ipynb\" target=\"_parent\"><img src=\"https://colab.research.google.com/assets/colab-badge.svg\" alt=\"Open In Colab\"/></a>"
      ]
    },
    {
      "cell_type": "code",
      "execution_count": null,
      "metadata": {
        "id": "6_d_sdJgGk24"
      },
      "outputs": [],
      "source": [
        ""
      ]
    },
    {
      "cell_type": "markdown",
      "source": [
        "ACTIVIDAD 2\n",
        "\n",
        "Cargamos el data set\n",
        "\n"
      ],
      "metadata": {
        "id": "5r4TB98QHXoC"
      }
    },
    {
      "cell_type": "code",
      "source": [
        "from google.colab import files\n",
        "files.upload()\n",
        "\n"
      ],
      "metadata": {
        "id": "N-oVJU15IfaM"
      },
      "execution_count": null,
      "outputs": []
    },
    {
      "cell_type": "code",
      "source": [
        "import pandas as pd\n",
        "import numpy as np\n",
        "\n",
        "file1 = 'tumBD4.csv'\n"
      ],
      "metadata": {
        "id": "O9352q1Mzha_"
      },
      "execution_count": null,
      "outputs": []
    },
    {
      "cell_type": "code",
      "source": [
        "alumnos = pd.read_csv(file1) \n",
        "alumnos.head()"
      ],
      "metadata": {
        "id": "iUcTsv0I0Fj3"
      },
      "execution_count": null,
      "outputs": []
    },
    {
      "cell_type": "code",
      "source": [
        "alumnos"
      ],
      "metadata": {
        "id": "1ip7aejL4quU"
      },
      "execution_count": null,
      "outputs": []
    },
    {
      "cell_type": "markdown",
      "source": [
        "# Nueva sección"
      ],
      "metadata": {
        "id": "C0LQE1O5DtwI"
      }
    },
    {
      "cell_type": "markdown",
      "source": [
        "**Missing Values**\n",
        "\n",
        "Para identifica los datos incompletos, se va a usar isnull para identificar que datos individuales son *nulos*:"
      ],
      "metadata": {
        "id": "3ZTXx6H1oyQn"
      }
    },
    {
      "cell_type": "code",
      "source": [
        "alumnos.isnull()"
      ],
      "metadata": {
        "id": "63KMk__EpWKo"
      },
      "execution_count": null,
      "outputs": []
    },
    {
      "cell_type": "markdown",
      "source": [
        "Vamos a calcular la cantidad de missing values por cada columna:"
      ],
      "metadata": {
        "id": "Iy8uhfqtpmQp"
      }
    },
    {
      "cell_type": "code",
      "source": [
        "alumnos.isnull().sum()"
      ],
      "metadata": {
        "id": "vDwS6GPLp6Un"
      },
      "execution_count": null,
      "outputs": []
    },
    {
      "cell_type": "code",
      "source": [
        "alumnos[alumnos.isnull().any(axis=1)]"
      ],
      "metadata": {
        "id": "d7UvzLsf1VYa"
      },
      "execution_count": null,
      "outputs": []
    },
    {
      "cell_type": "markdown",
      "source": [
        "Eliminamos la columna 23 cuya data no aporta en el analisis"
      ],
      "metadata": {
        "id": "TvQCCK2HLx5k"
      }
    },
    {
      "cell_type": "code",
      "source": [
        "alumnos.drop(alumnos.columns[[23]], axis=1, inplace=True)"
      ],
      "metadata": {
        "id": "qWQhQE9dLLGQ"
      },
      "execution_count": null,
      "outputs": []
    },
    {
      "cell_type": "code",
      "source": [
        "alumnos.isnull().sum()"
      ],
      "metadata": {
        "id": "YdBo5KccLrLs"
      },
      "execution_count": null,
      "outputs": []
    },
    {
      "cell_type": "markdown",
      "source": [
        ""
      ],
      "metadata": {
        "id": "EpsAcxP1pmK5"
      }
    },
    {
      "cell_type": "code",
      "source": [
        "alumnos.dropna(subset=[23], how='all')"
      ],
      "metadata": {
        "id": "8d616yQd1aGw"
      },
      "execution_count": null,
      "outputs": []
    }
  ]
}