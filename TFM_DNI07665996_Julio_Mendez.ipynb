{
  "nbformat": 4,
  "nbformat_minor": 0,
  "metadata": {
    "colab": {
      "private_outputs": true,
      "provenance": [],
      "cell_execution_strategy": "setup",
      "include_colab_link": true
    },
    "kernelspec": {
      "name": "python3",
      "display_name": "Python 3"
    },
    "language_info": {
      "name": "python"
    }
  },
  "cells": [
    {
      "cell_type": "markdown",
      "metadata": {
        "id": "view-in-github",
        "colab_type": "text"
      },
      "source": [
        "<a href=\"https://colab.research.google.com/github/jmendezlt/Julio_Mendez_Data_Mining/blob/main/TFM_DNI07665996_Julio_Mendez.ipynb\" target=\"_parent\"><img src=\"https://colab.research.google.com/assets/colab-badge.svg\" alt=\"Open In Colab\"/></a>"
      ]
    },
    {
      "cell_type": "code",
      "execution_count": null,
      "metadata": {
        "id": "6_d_sdJgGk24"
      },
      "outputs": [],
      "source": []
    },
    {
      "cell_type": "markdown",
      "source": [
        "# **TESIS DE FIN DE MASTER**\n",
        "\n",
        "\n",
        "**OBJETIVO**: Extraer y visualizar los datos más relevantes del SENATI para proporcionar datos e información a los administradores del campus sobre el desempeño académico de los estudiantes.\n",
        "\n",
        "**APLICANDO KDD A LOS REPORTES ACADEMICOS**\n",
        "\n",
        "1.- Selección de datos.- Se ha seleccionado 5 reportes que se reciben diariamente de la Jefatura Académica.\n",
        "\n",
        "2.- Preproceso: Limpieza de Datos.- A cada uno de los reportes se le realiza la limpieza y transformación de los datos, incluyendo la eliminación de columnas vacías y aquellas que no son relevantes para el objetivo.\n",
        "\n",
        "3.- Transformación de datos.\n",
        "\n",
        "4.- Minería de datos.\n",
        "\n",
        "5.- Visualización.\n",
        "\n"
      ],
      "metadata": {
        "id": "5r4TB98QHXoC"
      }
    },
    {
      "cell_type": "markdown",
      "source": [
        "\n",
        "\n",
        "```\n",
        "# Esto tiene formato de código\n",
        "```\n",
        "\n",
        "**REPORTE DE ASISTENCIA DEL ALUMNO**"
      ],
      "metadata": {
        "id": "VwiBc1Lg46vg"
      }
    },
    {
      "cell_type": "markdown",
      "source": [
        "# **1.- Selección de datos.**"
      ],
      "metadata": {
        "id": "YpGRgMEqjSCE"
      }
    },
    {
      "cell_type": "markdown",
      "source": [
        "Cargamos los 3 reportes: REPORTE_DATA_DE_ASISTENCIA, REPORTE DE CALIFICACIONES, REPORTE DE ACCESOS DE INSTRUCTORES."
      ],
      "metadata": {
        "id": "ilSTRoh-5Mzs"
      }
    },
    {
      "cell_type": "code",
      "source": [
        "from google.colab import drive\n",
        "drive.mount('/content/drive')"
      ],
      "metadata": {
        "id": "do-roXoFvu2Y"
      },
      "execution_count": null,
      "outputs": []
    },
    {
      "cell_type": "code",
      "source": [
        "from google.colab import files\n",
        "files.upload()"
      ],
      "metadata": {
        "id": "sr39FU9dv2ux"
      },
      "execution_count": null,
      "outputs": []
    },
    {
      "cell_type": "code",
      "source": [
        "import pandas as pd\n",
        "import numpy as np\n",
        "asistencia = pd.read_excel('zpt06_REP17_Asistencia_y_Calificaciones_20230301_2316.xlsx')\n",
        "calificacion = pd.read_excel('zpt_REPD19_CalificacionesInstructores_20230301_2316.xlsx')\n",
        "accesos = pd.read_excel('zpt_REPD06_AccesosInstructores_20230301_2316.xlsx')\n",
        "datos = pd.read_excel('Datos_Prediccion_Alumnos_Sullana_1.xlsx')"
      ],
      "metadata": {
        "id": "hs3-3NaCsdDx"
      },
      "execution_count": null,
      "outputs": []
    },
    {
      "cell_type": "code",
      "source": [
        "asistencia.head()"
      ],
      "metadata": {
        "id": "iUcTsv0I0Fj3"
      },
      "execution_count": null,
      "outputs": []
    },
    {
      "cell_type": "code",
      "source": [
        "calificacion.head()"
      ],
      "metadata": {
        "id": "ovqeHiHXyanb"
      },
      "execution_count": null,
      "outputs": []
    },
    {
      "cell_type": "code",
      "source": [
        "accesos.head()"
      ],
      "metadata": {
        "id": "Hpd7r0c_KIhQ"
      },
      "execution_count": null,
      "outputs": []
    },
    {
      "cell_type": "code",
      "source": [
        "asistencia1 = asistencia.columns.tolist()\n",
        "calificacion1 = calificacion.columns.tolist()\n",
        "accesos1 = accesos.columns.tolist()\n",
        "\n",
        "print(\"Asistencia:\\n\", asistencia1)\n",
        "print(\"Calificacion:\\n\", calificacion1)\n",
        "print(\"Accesos:\\n\", accesos1)"
      ],
      "metadata": {
        "id": "e9Kp4IotxGSd"
      },
      "execution_count": null,
      "outputs": []
    },
    {
      "cell_type": "markdown",
      "source": [
        "# **2.- Preproceso: Limpieza de datos.**"
      ],
      "metadata": {
        "id": "C0LQE1O5DtwI"
      }
    },
    {
      "cell_type": "markdown",
      "source": [
        "# Identificación y eliminación de columnas irrelevantes para el objetivo"
      ],
      "metadata": {
        "id": "L1Aq993C7lMA"
      }
    },
    {
      "cell_type": "markdown",
      "source": [
        "Exploramos los datos de los 3 data set y luego indentificamos columnas de datos que no son relevantes  para la visualización y  las eliminamos.\n",
        "\n",
        "De la tabla **asistencia**, las columnas irrelevantes son: \"EMAIL_ALUMNO\", \"BLOQUE\", \"ZONAL_CURSO\", \"CAMPUS_CURSO\", \"ZONAL_INSTRUCTOR\", \"CAMPUS_INSTRUCTOR\", \"EMAIL_INSTRUCTOR\", \"NOMBRE_INSTRUCTOR\", \"PRIMERA_MATRICULA\", \"FECHA_MATRICULA_CURSO\", \"SEMANAS_MATRICULA_CURSO\""
      ],
      "metadata": {
        "id": "2-RUzMLQEGsb"
      }
    },
    {
      "cell_type": "markdown",
      "source": [
        "Eliminación de columnas de la tabla ASISTENCIA:"
      ],
      "metadata": {
        "id": "Y-gTU4zHF1cc"
      }
    },
    {
      "cell_type": "code",
      "source": [
        "# Eliminar las columnas\n",
        "asistencia2 = asistencia.drop(['BLOQUE', 'ZONAL_CURSO', 'CAMPUS_CURSO', 'ZONAL_INSTRUCTOR', 'CAMPUS_INSTRUCTOR', 'EMAIL_INSTRUCTOR', 'NOMBRE_INSTRUCTOR', 'PRIMERA_MATRICULA', 'FECHA_MATRICULA_CURSO','SEMANAS_MATRICULA_CURSO'], axis=1)"
      ],
      "metadata": {
        "id": "5zFdf8zQElla"
      },
      "execution_count": null,
      "outputs": []
    },
    {
      "cell_type": "code",
      "source": [
        "print(asistencia2.columns.tolist())"
      ],
      "metadata": {
        "id": "bbCXGCLE6qva"
      },
      "execution_count": null,
      "outputs": []
    },
    {
      "cell_type": "markdown",
      "source": [
        "Eliminación de  columnas de la tabla CALIFICACION"
      ],
      "metadata": {
        "id": "acCuVjKc-wtX"
      }
    },
    {
      "cell_type": "markdown",
      "source": [
        "De la tabla calificación, las columnas irrelevantes son: 'ZONAL_CURSO', 'CAMPUS_CURSO', 'ALUMNO', 'EMAIL_ALUMNO', 'BLOQUE', 'MAT_CUR', 'TITULO_CURSO\", 'EMAIL_INSTRUCTOR', 'NOMBRE_INSTRUCTOR', 'EMAIL_INSTRUCTOR', 'NOMBRE_INSTRUCTOR', 'ZONAL_INSTRUCTOR', 'CAMPUS_INSTRUCTOR'."
      ],
      "metadata": {
        "id": "JZhh1-ZW77mX"
      }
    },
    {
      "cell_type": "code",
      "source": [
        "# Eliminar las columnas\n",
        "calificacion2 = calificacion.drop(['ZONAL_CURSO', 'CAMPUS_CURSO', 'ALUMNO', 'EMAIL_ALUMNO', 'BLOQUE', 'MAT_CUR', 'TITULO_CURSO', 'EMAIL_INSTRUCTOR', 'NOMBRE_INSTRUCTOR', 'EMAIL_INSTRUCTOR', 'NOMBRE_INSTRUCTOR', 'ZONAL_INSTRUCTOR', 'CAMPUS_INSTRUCTOR'], axis=1)"
      ],
      "metadata": {
        "id": "waiiusHg-awa"
      },
      "execution_count": null,
      "outputs": []
    },
    {
      "cell_type": "code",
      "source": [
        "print(calificacion2.columns.tolist())"
      ],
      "metadata": {
        "id": "MNmzn_ts_agN"
      },
      "execution_count": null,
      "outputs": []
    },
    {
      "cell_type": "markdown",
      "source": [
        "Eliminación de columnas de la tabla ACCESOS"
      ],
      "metadata": {
        "id": "vp_8TR1-AJZr"
      }
    },
    {
      "cell_type": "markdown",
      "source": [
        "De la tabla ACCESOS, las columnas irrelevantes son: 'ZONAL_INSTRUCTOR', 'CAMPUS_INSTRUCTOR', 'EMAIL_INSTRUCTOR', 'NOMBRE_INSTRUCTOR', 'PLAZO', 'PORC_ACAD', 'VINCULO', 'HORAS, 'SINDICALIZADO', 'FACTOR_TCOMPLETO', 'TITULO_CURSO', 'MAT_CUR', 'FILA_INST'."
      ],
      "metadata": {
        "id": "gmc2VbQQAH9B"
      }
    },
    {
      "cell_type": "code",
      "source": [
        "# Eliminar las columnas\n",
        "accesos2 = accesos.drop(['ZONAL_INSTRUCTOR', 'CAMPUS_INSTRUCTOR', 'EMAIL_INSTRUCTOR', 'NOMBRE_INSTRUCTOR', 'PLAZO', 'PORC_ACAD', 'VINCULO', 'HORAS', 'SINDICALIZADO', 'FACTOR_TCOMPLETO', 'TITULO_CURSO', 'MAT_CUR', 'FILA_INST'], axis=1)\n"
      ],
      "metadata": {
        "id": "FyHzv53AC0r4"
      },
      "execution_count": null,
      "outputs": []
    },
    {
      "cell_type": "code",
      "source": [
        "print(accesos2.columns.tolist())"
      ],
      "metadata": {
        "id": "npWwl0Uu_3Qg"
      },
      "execution_count": null,
      "outputs": []
    },
    {
      "cell_type": "markdown",
      "source": [
        "# Missing values y reemplazo de datos"
      ],
      "metadata": {
        "id": "Mw2madiLJERF"
      }
    },
    {
      "cell_type": "markdown",
      "source": [
        "Por cada tabla se va a calcular la cantidad de missing values por cada columna, se analiza y luego se toma la decisión de reemplazarla o eliminarla segun sea el caso:"
      ],
      "metadata": {
        "id": "Dync0nygG7BO"
      }
    },
    {
      "cell_type": "code",
      "source": [
        "#Missing values de la tabla asistencia2 :\n",
        "asistencia2.isnull().sum()"
      ],
      "metadata": {
        "id": "6NlgV6-0w1KA"
      },
      "execution_count": null,
      "outputs": []
    },
    {
      "cell_type": "markdown",
      "source": [
        "En total solo se tiene 4 columnas que llevan el nombre MES_2020 cuyos valores son missing values. Vamos a reemplazarlos por ceros, debido a que es muy probable que dichos alumnos sus clases hayan iniciado recién en el mes 07. Los campos vacios de las columnas CURSO_1ra_CALIF y CURSO_ULT_CALIF y la de PROMEDIO_NOTAS se completaran con el valor de 0."
      ],
      "metadata": {
        "id": "QteWu4s6IB9b"
      }
    },
    {
      "cell_type": "code",
      "source": [
        "columnas_a_completar = {\"MES_2020_03\":0, \"MES_2020_04\":0, \"MES_2020_05\":0, \"MES_2020_06\":0, \"CURSO_1RA_CALIF\":0,\"CURSO_ULT_CALIF\":0, \"PROMEDIO_NOTA\":0, \"PRIMER_ACCESO_CURSO\":\"6/07/20\", \"ULTIMO_ACCESO_CURSO\":\"20/12/2020\", \"FECHA_INICIO\":\"06/07/2020\", \"FECHA_FIN\":\"20/12/2020\", \"ID_INST\":0 }\n",
        "asistencia3 = asistencia2.fillna(columnas_a_completar)"
      ],
      "metadata": {
        "id": "2-fsBwAAIA1E"
      },
      "execution_count": null,
      "outputs": []
    },
    {
      "cell_type": "code",
      "source": [
        "asistencia3.isnull().sum()"
      ],
      "metadata": {
        "id": "Nv0beDUZVtHV"
      },
      "execution_count": null,
      "outputs": []
    },
    {
      "cell_type": "code",
      "source": [
        "#Missing values de la tabla calificacion2 :\n",
        "calificacion2.isnull().sum()"
      ],
      "metadata": {
        "id": "Zdo9M2-_IBRa"
      },
      "execution_count": null,
      "outputs": []
    },
    {
      "cell_type": "markdown",
      "source": [
        "Se está analizando reportes del periodo 2022, por lo tanto, los missing values de la columna PARTE_PERIODO se rellenará con el periodo correspondiente:"
      ],
      "metadata": {
        "id": "5TqrekHDOzGc"
      }
    },
    {
      "cell_type": "code",
      "source": [
        "calificacion3 = calificacion2['PARTE_PERIODO'].fillna(2022)"
      ],
      "metadata": {
        "id": "fSXyfq7OPEk5"
      },
      "execution_count": null,
      "outputs": []
    },
    {
      "cell_type": "markdown",
      "source": [
        "De un total de 28,486 filas, se tiene 26,480 notas vacias. Se les completará con la nota 0. Es probable que el semestre académico recién haya iniciado y tenga sentido de que se encuentren notas vacias."
      ],
      "metadata": {
        "id": "pQOg4RlwOTCx"
      }
    },
    {
      "cell_type": "code",
      "source": [
        "calificacion3 = calificacion2['NOTA'].fillna(0)"
      ],
      "metadata": {
        "id": "q9I1ym3DOet7"
      },
      "execution_count": null,
      "outputs": []
    },
    {
      "cell_type": "code",
      "source": [
        "calificacion3 = calificacion2['ID_INST'].fillna(0)"
      ],
      "metadata": {
        "id": "fQfs3nb0zZpN"
      },
      "execution_count": null,
      "outputs": []
    },
    {
      "cell_type": "code",
      "source": [
        "calificacion3.isnull().sum()"
      ],
      "metadata": {
        "id": "yFnvGAnMPQLE"
      },
      "execution_count": null,
      "outputs": []
    },
    {
      "cell_type": "code",
      "source": [
        "#Missing values de la tabla accesos2 :\n",
        "accesos2.isnull().sum()"
      ],
      "metadata": {
        "id": "e0bpRn9VwwAK"
      },
      "execution_count": null,
      "outputs": []
    },
    {
      "cell_type": "markdown",
      "source": [
        "En la columna \"PARTE_PERIODO\" se tiene 9 campos nulos, analizando, en total solo existen 5 periodos en el año y la mayor cantidad de alumnos se matriculan en el periodo 1, por lo tanto, los campos nulos se reemplazaran con el valor de 1. lA 'ZONAL_CURSO' corresponde a la ZONAL PIURA-TUMBES, y el campo 'CAMPUS_CURSO' se le asignará al CFP PIURA."
      ],
      "metadata": {
        "id": "3q6fJ8nl9GuZ"
      }
    },
    {
      "cell_type": "code",
      "source": [
        "columnas_a_completar = {\"PARTE_PERIODO\":1, \"ZONAL_CURSO\":'ZONAL PIURA-TUMBES', \"CAMPUS_CURSO\":\"CFP PIURA\"}\n",
        "accesos3 = accesos2.fillna(columnas_a_completar)"
      ],
      "metadata": {
        "id": "xgZclOPA9nWh"
      },
      "execution_count": null,
      "outputs": []
    },
    {
      "cell_type": "code",
      "source": [
        "accesos3.isnull().sum()"
      ],
      "metadata": {
        "id": "fbuTa8RH-7qX"
      },
      "execution_count": null,
      "outputs": []
    },
    {
      "cell_type": "markdown",
      "source": [
        "# **3.- Transformación de datos.**\n",
        "\n",
        "Se aplicarán técnicas para convertir los datos en una forma adecuada para el análisis."
      ],
      "metadata": {
        "id": "3ZTXx6H1oyQn"
      }
    },
    {
      "cell_type": "markdown",
      "source": [
        "## Adición de nuevas columnas con datos creados a partir de los existentes."
      ],
      "metadata": {
        "id": "sf5lYYziHiMo"
      }
    },
    {
      "cell_type": "markdown",
      "source": [
        " Se crea una nueva columna para indicaar si el alumno aprobó (TRUE) o desaprobó (FALSE)."
      ],
      "metadata": {
        "id": "uWSymFHgJXzs"
      }
    },
    {
      "cell_type": "markdown",
      "source": [],
      "metadata": {
        "id": "Iy8uhfqtpmQp"
      }
    },
    {
      "cell_type": "code",
      "source": [
        "passes = pd.Series(asistencia3[\"PROMEDIO_NOTA\"]>=11)\n",
        "asistencia3 = pd.concat([asistencia3, passes.rename(\"Aprobado\")],axis=1)\n"
      ],
      "metadata": {
        "id": "L3BnCkESGy3v"
      },
      "execution_count": null,
      "outputs": []
    },
    {
      "cell_type": "code",
      "source": [
        "asistencia3.head()"
      ],
      "metadata": {
        "id": "BKsO1g4-HL8Z"
      },
      "execution_count": null,
      "outputs": []
    },
    {
      "cell_type": "markdown",
      "source": [
        "## Agrupacion de alumnos"
      ],
      "metadata": {
        "id": "TpOAXgSZHtIX"
      }
    },
    {
      "cell_type": "markdown",
      "source": [
        "Utilizando la nueva columna creada con el nombre de aprobado, agruparemos a los alumnos que están aprobados y los que no lo están, luego cuantificaremos el total."
      ],
      "metadata": {
        "id": "d9Bz7Su0J92q"
      }
    },
    {
      "cell_type": "code",
      "source": [
        "print(asistencia3.groupby(asistencia3.Aprobado).ALUMNO.count())"
      ],
      "metadata": {
        "id": "AT8YHLZDHuwA"
      },
      "execution_count": null,
      "outputs": []
    },
    {
      "cell_type": "markdown",
      "source": [
        "Al dia en que se creó la tabla, se tiene 3,413 cursos con nota desaprobada y 23,828 cursos cuyas notas estan aprobadas."
      ],
      "metadata": {
        "id": "3tPhVWiGMhZO"
      }
    },
    {
      "cell_type": "code",
      "source": [
        "print(asistencia3.groupby(asistencia3.TITULO_CURSO).Aprobado.count())"
      ],
      "metadata": {
        "id": "DmxDhcugY6w1"
      },
      "execution_count": null,
      "outputs": []
    },
    {
      "cell_type": "markdown",
      "source": [
        "# **4.- Mineria de datos**\n",
        "Se aplican algoritmos y técnicas de minería de datos para descubrir patrones, tendencias y relaciones en los datos."
      ],
      "metadata": {
        "id": "z02396t5lK4j"
      }
    },
    {
      "cell_type": "code",
      "source": [
        "import pandas as pd\n",
        "from sklearn.model_selection import train_test_split\n",
        "from sklearn.preprocessing import LabelEncoder\n",
        "from sklearn.tree import DecisionTreeClassifier"
      ],
      "metadata": {
        "id": "0JXEgVnF0jEO"
      },
      "execution_count": null,
      "outputs": []
    },
    {
      "cell_type": "code",
      "source": [
        "from sklearn.linear_model import LogisticRegression\n",
        "from sklearn.model_selection import train_test_split\n",
        "from sklearn.preprocessing import LabelEncoder"
      ],
      "metadata": {
        "id": "JrbO4NpYrZMn"
      },
      "execution_count": null,
      "outputs": []
    },
    {
      "cell_type": "code",
      "source": [
        "datos.head()\n",
        "datos['CONDICION_ACAD'].value_counts()\n",
        "datos.info()"
      ],
      "metadata": {
        "id": "hVudefq3qVdz"
      },
      "execution_count": null,
      "outputs": []
    },
    {
      "cell_type": "code",
      "source": [
        "datos['CONDICION_ACAD'].value_counts()"
      ],
      "metadata": {
        "id": "gatLygEvOyYk"
      },
      "execution_count": null,
      "outputs": []
    },
    {
      "cell_type": "code",
      "source": [
        "datos.head()"
      ],
      "metadata": {
        "id": "3APs7ozFNG1T"
      },
      "execution_count": null,
      "outputs": []
    },
    {
      "cell_type": "code",
      "source": [
        "datos = pd.read_excel('Datos_Prediccion_Alumnos_Sullana_1.xlsx')"
      ],
      "metadata": {
        "id": "FluHym3nqTlB"
      },
      "execution_count": null,
      "outputs": []
    },
    {
      "cell_type": "code",
      "source": [
        "# Dividir los atributos en características (X) y etiquetas (y)\n",
        "x = datos[['COD_CARRERA', 'SEXO', 'TIPO_ALUMNO', 'EDAD']].copy()\n",
        "y = datos['CONDICION_ACAD']"
      ],
      "metadata": {
        "id": "lVOjZerB01MG"
      },
      "execution_count": null,
      "outputs": []
    },
    {
      "cell_type": "code",
      "source": [
        "# Codificar las variables categóricas\n",
        "le = LabelEncoder()\n",
        "x['SEXO'] = le.fit_transform(x['SEXO'])\n",
        "x['COD_CARRERA'] = le.fit_transform(x['COD_CARRERA'])\n",
        "x['TIPO_ALUMNO'] = le.fit_transform(x['TIPO_ALUMNO'])\n",
        "x['EDAD'] = datos['EDAD']"
      ],
      "metadata": {
        "id": "jbqZLRAnZOmQ"
      },
      "execution_count": null,
      "outputs": []
    },
    {
      "cell_type": "code",
      "source": [
        "print(x)"
      ],
      "metadata": {
        "id": "96OMXwR5tWTw"
      },
      "execution_count": null,
      "outputs": []
    },
    {
      "cell_type": "code",
      "source": [
        "# Dividir los datos en conjuntos de entrenamiento y prueba\n",
        "x_train,x_test,y_train,y_test=train_test_split(x,y,test_size=0.2,random_state=0)"
      ],
      "metadata": {
        "id": "ABUNQUMEzVt-"
      },
      "execution_count": null,
      "outputs": []
    },
    {
      "cell_type": "markdown",
      "source": [
        "**MODELO DE ARBOL DE DECISION**"
      ],
      "metadata": {
        "id": "CqiNJRYNwQgq"
      }
    },
    {
      "cell_type": "markdown",
      "source": [
        "Entrenamos el modelo para predecir alumnos con posibilidad de abandono con el MODELO DE ARBOL DE DECISION en scikit-learn. Para esto, se crea un objeto de la clase DecisionTreeClassifier."
      ],
      "metadata": {
        "id": "m8PhE2APvn7n"
      }
    },
    {
      "cell_type": "code",
      "source": [
        "# Crear el clasificador de árbol de decisión\n",
        "clf = DecisionTreeClassifier()"
      ],
      "metadata": {
        "id": "32V3GfGgZjuX"
      },
      "execution_count": null,
      "outputs": []
    },
    {
      "cell_type": "code",
      "source": [
        "# Entrenar el modelo\n",
        "clf.fit(x_train, y_train)"
      ],
      "metadata": {
        "id": "iUBC5W8p3LRf"
      },
      "execution_count": null,
      "outputs": []
    },
    {
      "cell_type": "code",
      "source": [
        "# Realizar predicciones en los datos de prueba\n",
        "y_pred = clf.predict(x_test)"
      ],
      "metadata": {
        "id": "1GbwRd4p3Vl-"
      },
      "execution_count": null,
      "outputs": []
    },
    {
      "cell_type": "code",
      "source": [
        "# Imprimir resultados\n",
        "print(\"Predicciones:\", y_pred)"
      ],
      "metadata": {
        "id": "um2AWZ7I3ePg"
      },
      "execution_count": null,
      "outputs": []
    },
    {
      "cell_type": "markdown",
      "source": [
        "Utilizamos la función confusion_matrix para calcular una matriz de confusión que muestra la cantidad de predicciones correctas e incorrectas para cada clase.\n",
        "La función accuracy_score la utilizamos para calcular la precisión del modelo, que es la proporción de predicciones correctas en relación con el total de predicciones."
      ],
      "metadata": {
        "id": "zbPi9g0ew36M"
      }
    },
    {
      "cell_type": "code",
      "source": [
        "from sklearn.metrics import confusion_matrix,accuracy_score\n",
        "cm=confusion_matrix(y_test,y_pred)\n",
        "ac=accuracy_score(y_test,y_pred)\n",
        "print(cm,ac)"
      ],
      "metadata": {
        "id": "Jkj5DCb48V9f"
      },
      "execution_count": null,
      "outputs": []
    },
    {
      "cell_type": "code",
      "source": [
        "from sklearn.metrics import precision_score, recall_score, f1_score\n",
        "\n",
        "# Calcula la precisión\n",
        "precision = precision_score(y_test, y_pred)\n",
        "print(precision)\n",
        "# Calcula el recall\n",
        "recall = recall_score(y_test, y_pred)\n",
        "\n",
        "# Calcula el F1-score\n",
        "f1 = f1_score(y_test, y_pred)\n",
        "\n",
        "print (f1)\n",
        "\n"
      ],
      "metadata": {
        "id": "S7v0B_LQH4dr"
      },
      "execution_count": null,
      "outputs": []
    },
    {
      "cell_type": "markdown",
      "source": [
        "**Estandarizamos las caracteristicas**"
      ],
      "metadata": {
        "id": "e56ccSt6G3oe"
      }
    },
    {
      "cell_type": "markdown",
      "source": [
        "La estandarización de características es especialmente útil cuando se trabaja con algoritmos sensibles a la escala de las características, como SVM (Support Vector Machines), regresión logística y redes neuronales. Al estandarizar las características, se asegura de que todas tengan una escala similar y contribuyan de manera equitativa al modelo.\n",
        "\n",
        "\n",
        "\n",
        "\n"
      ],
      "metadata": {
        "id": "eAyfpwteG0CA"
      }
    },
    {
      "cell_type": "code",
      "source": [
        "from sklearn.preprocessing import StandardScaler\n",
        "sc=StandardScaler()\n",
        "x_train=sc.fit_transform(x_train)\n",
        "x_test=sc.transform(x_test)"
      ],
      "metadata": {
        "id": "yODnZE0r38dr"
      },
      "execution_count": null,
      "outputs": []
    },
    {
      "cell_type": "markdown",
      "source": [
        "**Clasificador SVM (Support Vector Machines)**"
      ],
      "metadata": {
        "id": "R45OA5KR1MWy"
      }
    },
    {
      "cell_type": "markdown",
      "source": [
        "Se crea un clasificador SVM con un kernel RBF, y luego se ajusta a los datos de entrenamiento. El modelo resultante se utilizará para hacer predicciones en datos nuevos o no vistos."
      ],
      "metadata": {
        "id": "uGzCxxkx16Of"
      }
    },
    {
      "cell_type": "code",
      "source": [
        "from sklearn.svm import SVC\n",
        "clsfr=SVC(kernel='rbf')\n",
        "clsfr.fit(x_train,y_train)"
      ],
      "metadata": {
        "id": "lkf1wCG54L4n"
      },
      "execution_count": null,
      "outputs": []
    },
    {
      "cell_type": "code",
      "source": [
        "y_pred=clsfr.predict(x_test)"
      ],
      "metadata": {
        "id": "pOG4Mi7i4rS3"
      },
      "execution_count": null,
      "outputs": []
    },
    {
      "cell_type": "code",
      "source": [
        "from sklearn.metrics import confusion_matrix,accuracy_score\n",
        "cm=confusion_matrix(y_test,y_pred)\n",
        "ac=accuracy_score(y_test,y_pred)\n",
        "print(cm,ac)"
      ],
      "metadata": {
        "id": "SwwOz3Ow4vom"
      },
      "execution_count": null,
      "outputs": []
    },
    {
      "cell_type": "markdown",
      "source": [
        "Se calcula la matriz de confusión y la precisión del clasificador SVM en los datos de prueba. La matriz de confusión proporciona información detallada sobre el rendimiento del modelo para cada clase, mientras que la precisión representa la proporción de predicciones correctas en general."
      ],
      "metadata": {
        "id": "QmeOmf7Z5d9I"
      }
    },
    {
      "cell_type": "markdown",
      "source": [
        "La matriz de confusión [0 7; 0 143] muestra la distribución de las predicciones realizadas por el clasificador SVM en los datos de prueba.\n",
        "\n",
        "Interpretación de la matriz de confusión:\n",
        "\n",
        "En la clase 0 que muestra la predicción de alumnos que abandonarán la escuela, el clasificador ha realizado 0 predicciones correctas y 7 predicciones incorrectas. De los elementos pertenecientes a la clase 0, 7 de ellos se han clasificado incorrectamente como clase 1\n",
        "En la clase 1 que muestra los alumnos hábiles que continuarán en la escuela, el clasificador ha realizado 143 predicciones correctas y 0 predicciones incorrectas. De los elementos pertenecientes a la clase 1, 0 de ellos se han clasificado incorrectamente como clase 0.\n",
        "La precisión del clasificador, obtenida como 0.95, representa la proporción de predicciones correctas en general. En este caso, el clasificador ha obtenido una precisión del 95.33%, lo que significa que aproximadamente el 95.33% de las predicciones en los datos de prueba fueron correctas.\n",
        "\n",
        "En resumen, el clasificador SVM ha mostrado un buen rendimiento en términos de precisión general, pero ha tenido algunas dificultades al clasificar correctamente los elementos de la clase 0, donde ha cometido 7 errores."
      ],
      "metadata": {
        "id": "5r5lMVeO6Vmg"
      }
    },
    {
      "cell_type": "markdown",
      "source": [
        "**Validación Cruzada**"
      ],
      "metadata": {
        "id": "FpDL42LtH8A_"
      }
    },
    {
      "cell_type": "markdown",
      "source": [
        "La validación cruzada es una técnica utilizada para evaluar el rendimiento de un modelo en términos de su capacidad para generalizar a datos no vistos. En lugar de dividir los datos en un conjunto de entrenamiento y un conjunto de prueba, la validación cruzada divide los datos en k pliegues (folds) o particiones. Luego, entrena y evalúa el modelo k veces, utilizando diferentes combinaciones de pliegues como datos de entrenamiento y prueba."
      ],
      "metadata": {
        "id": "7e1XrsZzIJO_"
      }
    },
    {
      "cell_type": "code",
      "source": [
        "from sklearn.model_selection import cross_val_score\n",
        "acrcy=cross_val_score(estimator=clsfr,X=x_test,y=y_test,cv=10)\n",
        "print('Accuracy',acrcy.mean()*100)\n",
        "print('Standard Deviation {:.2f}%'.format(acrcy.std()*100))"
      ],
      "metadata": {
        "id": "E3T7qP_c8eZF"
      },
      "execution_count": null,
      "outputs": []
    },
    {
      "cell_type": "markdown",
      "source": [
        "El resultado que se obtiene al utilizar cross_val_score indica la precisión promedio y la desviación estándar de un modelo de clasificación entrenado utilizando validación cruzada.\n",
        "\n",
        "En tu caso, el resultado muestra una precisión promedio del 94.0%, lo que significa que en promedio el modelo clasifica correctamente el 94.0% de las muestras. Esto indica un buen rendimiento del modelo en general.\n",
        "\n",
        "La desviación estándar del 3.59% indica la variabilidad de las puntuaciones de precisión a lo largo de los pliegues de validación cruzada. Una desviación estándar baja indica que las puntuaciones de precisión son consistentes y hay poca variabilidad entre los pliegues. En tu caso, una desviación estándar del 3.59% sugiere que las puntuaciones de precisión son relativamente consistentes.\n",
        "\n",
        "Además, la advertencia que se muestra indica que la clase menos representada en las etiquetas y contiene solo 7 muestras, lo cual es menor que el número de pliegues especificados (10). Esto puede sugerir que hay clases desequilibradas en tus datos, lo cual es importante tener en cuenta al interpretar los resultados.\n",
        "\n",
        "En general, una precisión del 94.0% con una desviación estándar del 3.59% es un resultado prometedor, lo que indica que el modelo tiene un buen rendimiento en términos de clasificación. Sin embargo, es importante realizar un análisis más detallado de tus datos y considerar otras métricas de evaluación, como la matriz de confusión, para obtener una comprensión completa del rendimiento del modelo."
      ],
      "metadata": {
        "id": "d0pGHmOlJT-_"
      }
    },
    {
      "cell_type": "markdown",
      "source": [
        "**REGRESION LOGISTICA**"
      ],
      "metadata": {
        "id": "BNziBjfl6D-3"
      }
    },
    {
      "cell_type": "code",
      "source": [
        "from sklearn.linear_model import LogisticRegression\n",
        "log_reg=LogisticRegression()\n",
        "log_reg.fit(x_train,y_train)"
      ],
      "metadata": {
        "id": "dTD0xiLk72Ke"
      },
      "execution_count": null,
      "outputs": []
    },
    {
      "cell_type": "code",
      "source": [
        "# Realizar predicciones en los datos de prueba\n",
        "y_pred = log_reg.predict(x_test)"
      ],
      "metadata": {
        "id": "KGIas53D-bIq"
      },
      "execution_count": null,
      "outputs": []
    },
    {
      "cell_type": "code",
      "source": [
        "cm=confusion_matrix(y_test,log_reg.predict(x_test))\n",
        "ac=accuracy_score(y_test,log_reg.predict(x_test))\n",
        "print(cm,ac)"
      ],
      "metadata": {
        "id": "DW2kMbom99E9"
      },
      "execution_count": null,
      "outputs": []
    },
    {
      "cell_type": "code",
      "source": [
        "acrcy=cross_val_score(estimator=clsfr,X=x_test,y=y_test,cv=10)\n",
        "print('Accuracy',acrcy.mean()*100)\n",
        "print('Standard Deviation {:.2f}%'.format(acrcy.std()*100))"
      ],
      "metadata": {
        "id": "0xUR7kdJ-ejU"
      },
      "execution_count": null,
      "outputs": []
    },
    {
      "cell_type": "markdown",
      "source": [
        "***KNeighborsClassifier***"
      ],
      "metadata": {
        "id": "Y_c0_A1Z_h8c"
      }
    },
    {
      "cell_type": "code",
      "source": [
        "from sklearn.neighbors import KNeighborsClassifier\n",
        "knn=KNeighborsClassifier(n_neighbors=5,metric='minkowski',p=2)\n",
        "knn.fit(x_train,y_train)"
      ],
      "metadata": {
        "id": "TrIcVwEj-znq"
      },
      "execution_count": null,
      "outputs": []
    },
    {
      "cell_type": "code",
      "source": [
        "y_pred = knn.predict(x_test)"
      ],
      "metadata": {
        "id": "UgfGICaj_Cws"
      },
      "execution_count": null,
      "outputs": []
    },
    {
      "cell_type": "code",
      "source": [
        "cm=confusion_matrix(y_test,log_reg.predict(x_test))\n",
        "ac=accuracy_score(y_test,log_reg.predict(x_test))\n",
        "print(cm,ac)"
      ],
      "metadata": {
        "id": "s9KOOuOA-_Lc"
      },
      "execution_count": null,
      "outputs": []
    },
    {
      "cell_type": "code",
      "source": [
        "acrcy=cross_val_score(estimator=clsfr,X=x_test,y=y_test,cv=10)\n",
        "print('Accuracy',acrcy.mean()*100)\n",
        "print('Standard Deviation {:.2f}%'.format(acrcy.std()*100))"
      ],
      "metadata": {
        "id": "OkbYgFwy_FmU"
      },
      "execution_count": null,
      "outputs": []
    },
    {
      "cell_type": "markdown",
      "source": [
        "# 4.- Visualizacion de datos"
      ],
      "metadata": {
        "id": "GBVxKdpBpGFO"
      }
    },
    {
      "cell_type": "markdown",
      "source": [
        "En esta etapa, la visualización de datos se trabajará con el Power BI cuyo desarrollo se encuentra en la memoria del trabajo."
      ],
      "metadata": {
        "id": "lBPLp41SpePv"
      }
    }
  ]
}